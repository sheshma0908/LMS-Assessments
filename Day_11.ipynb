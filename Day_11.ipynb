{
  "nbformat": 4,
  "nbformat_minor": 0,
  "metadata": {
    "colab": {
      "provenance": [],
      "gpuType": "T4",
      "authorship_tag": "ABX9TyO320Tpr2nFS4jDt6TNfyht",
      "include_colab_link": true
    },
    "kernelspec": {
      "name": "python3",
      "display_name": "Python 3"
    },
    "language_info": {
      "name": "python"
    },
    "accelerator": "GPU"
  },
  "cells": [
    {
      "cell_type": "markdown",
      "metadata": {
        "id": "view-in-github",
        "colab_type": "text"
      },
      "source": [
        "<a href=\"https://colab.research.google.com/github/sheshma0908/LMS-Assessments/blob/main/Day_11.ipynb\" target=\"_parent\"><img src=\"https://colab.research.google.com/assets/colab-badge.svg\" alt=\"Open In Colab\"/></a>"
      ]
    },
    {
      "cell_type": "code",
      "execution_count": 2,
      "metadata": {
        "colab": {
          "base_uri": "https://localhost:8080/"
        },
        "id": "E_u4zb-Nu0kr",
        "outputId": "3da215b3-f2c3-4c08-b7fc-88fdf68be03f"
      },
      "outputs": [
        {
          "output_type": "stream",
          "name": "stderr",
          "text": [
            "[nltk_data] Downloading package punkt_tab to /root/nltk_data...\n",
            "[nltk_data]   Unzipping tokenizers/punkt_tab.zip.\n",
            "/usr/local/lib/python3.11/dist-packages/spacy/util.py:1740: UserWarning: [W111] Jupyter notebook detected: if using `prefer_gpu()` or `require_gpu()`, include it in the same cell right before `spacy.load()` to ensure that the model is loaded on the correct device. More information: http://spacy.io/usage/v3#jupyter-notebook-gpu\n",
            "  warnings.warn(Warnings.W111)\n"
          ]
        },
        {
          "output_type": "stream",
          "name": "stdout",
          "text": [
            "NLTK Sentence Tokenization: ['Natural Language Processing (NLP) is a fascinating field of AI.', 'It enables machines to understand, interpret, and generate human language.', 'Tokenization is the first step in text processing!']\n",
            "NLTK Word Tokenization: ['Natural', 'Language', 'Processing', '(', 'NLP', ')', 'is', 'a', 'fascinating', 'field', 'of', 'AI', '.', 'It', 'enables', 'machines', 'to', 'understand', ',', 'interpret', ',', 'and', 'generate', 'human', 'language', '.', 'Tokenization', 'is', 'the', 'first', 'step', 'in', 'text', 'processing', '!']\n",
            "\n",
            "SpaCy Sentence Tokenization: ['Natural Language Processing (NLP) is a fascinating field of AI. \\n', 'It enables machines to understand, interpret, and generate human language. \\n', 'Tokenization is the first step in text processing!']\n",
            "SpaCy Word Tokenization: ['Natural', 'Language', 'Processing', '(', 'NLP', ')', 'is', 'a', 'fascinating', 'field', 'of', 'AI', '.', '\\n', 'It', 'enables', 'machines', 'to', 'understand', ',', 'interpret', ',', 'and', 'generate', 'human', 'language', '.', '\\n', 'Tokenization', 'is', 'the', 'first', 'step', 'in', 'text', 'processing', '!']\n"
          ]
        }
      ],
      "source": [
        "import nltk\n",
        "import spacy\n",
        "\n",
        "# Download the NLTK tokenizer if not already available\n",
        "nltk.download('punkt_tab')\n",
        "\n",
        "# Load SpaCy's English model\n",
        "nlp = spacy.load(\"en_core_web_sm\")\n",
        "\n",
        "# Sample paragraph\n",
        "text = \"\"\"Natural Language Processing (NLP) is a fascinating field of AI.\n",
        "It enables machines to understand, interpret, and generate human language.\n",
        "Tokenization is the first step in text processing!\"\"\"\n",
        "\n",
        "# Tokenization using NLTK\n",
        "def nltk_tokenize(text):\n",
        "    sentences = nltk.sent_tokenize(text)  # Sentence tokenization\n",
        "    words = nltk.word_tokenize(text)  # Word tokenization\n",
        "    return sentences, words\n",
        "\n",
        "# Tokenization using SpaCy\n",
        "def spacy_tokenize(text):\n",
        "    doc = nlp(text)\n",
        "    sentences = [sent.text for sent in doc.sents]  # Sentence tokenization\n",
        "    words = [token.text for token in doc]  # Word tokenization\n",
        "    return sentences, words\n",
        "\n",
        "# Using NLTK\n",
        "nltk_sentences, nltk_words = nltk_tokenize(text)\n",
        "print(\"NLTK Sentence Tokenization:\", nltk_sentences)\n",
        "print(\"NLTK Word Tokenization:\", nltk_words)\n",
        "\n",
        "# Using SpaCy\n",
        "spacy_sentences, spacy_words = spacy_tokenize(text)\n",
        "print(\"\\nSpaCy Sentence Tokenization:\", spacy_sentences)\n",
        "print(\"SpaCy Word Tokenization:\", spacy_words)"
      ]
    }
  ]
}