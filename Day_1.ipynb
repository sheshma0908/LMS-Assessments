{
  "nbformat": 4,
  "nbformat_minor": 0,
  "metadata": {
    "colab": {
      "provenance": [],
      "gpuType": "T4",
      "authorship_tag": "ABX9TyMRWCdVYY0znuZhSv0dO4ap",
      "include_colab_link": true
    },
    "kernelspec": {
      "name": "python3",
      "display_name": "Python 3"
    },
    "language_info": {
      "name": "python"
    },
    "accelerator": "GPU"
  },
  "cells": [
    {
      "cell_type": "markdown",
      "metadata": {
        "id": "view-in-github",
        "colab_type": "text"
      },
      "source": [
        "<a href=\"https://colab.research.google.com/github/sheshma0908/LMS-Assessments/blob/main/Day_1.ipynb\" target=\"_parent\"><img src=\"https://colab.research.google.com/assets/colab-badge.svg\" alt=\"Open In Colab\"/></a>"
      ]
    },
    {
      "cell_type": "code",
      "execution_count": 1,
      "metadata": {
        "colab": {
          "base_uri": "https://localhost:8080/"
        },
        "id": "Hp3n1LYd-arU",
        "outputId": "b7709f82-e205-4bdb-a2f7-895a76a3cdf6"
      },
      "outputs": [
        {
          "output_type": "stream",
          "name": "stdout",
          "text": [
            "Integer variable: 10  Type: <class 'int'>\n",
            "Float variable: 3.14  Type: <class 'float'>\n",
            "String variable: Hello, World!  Type: <class 'str'>\n",
            "Boolean variable: True  Type: <class 'bool'>\n"
          ]
        }
      ],
      "source": [
        "#!/usr/bin/env python\n",
        "# coding: utf-8\n",
        "\n",
        "# In[2]:\n",
        "\n",
        "\n",
        "integer_var = 10\n",
        "float_var = 3.14\n",
        "string_var = \"Hello, World!\"\n",
        "boolean_var = True\n",
        "\n",
        "print(\"Integer variable:\", integer_var, \" Type:\", type(integer_var))\n",
        "print(\"Float variable:\", float_var, \" Type:\", type(float_var))\n",
        "print(\"String variable:\", string_var, \" Type:\", type(string_var))\n",
        "print(\"Boolean variable:\", boolean_var, \" Type:\", type(boolean_var))"
      ]
    }
  ]
}