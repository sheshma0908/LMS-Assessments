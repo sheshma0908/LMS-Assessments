{
  "nbformat": 4,
  "nbformat_minor": 0,
  "metadata": {
    "colab": {
      "provenance": [],
      "gpuType": "T4",
      "authorship_tag": "ABX9TyNjW+d9oZh+qm6qxmRJSEAW",
      "include_colab_link": true
    },
    "kernelspec": {
      "name": "python3",
      "display_name": "Python 3"
    },
    "language_info": {
      "name": "python"
    },
    "accelerator": "GPU"
  },
  "cells": [
    {
      "cell_type": "markdown",
      "metadata": {
        "id": "view-in-github",
        "colab_type": "text"
      },
      "source": [
        "<a href=\"https://colab.research.google.com/github/sheshma0908/LMS-Assessments/blob/main/Day_30.ipynb\" target=\"_parent\"><img src=\"https://colab.research.google.com/assets/colab-badge.svg\" alt=\"Open In Colab\"/></a>"
      ]
    },
    {
      "cell_type": "code",
      "execution_count": 14,
      "metadata": {
        "colab": {
          "base_uri": "https://localhost:8080/"
        },
        "id": "E_u4zb-Nu0kr",
        "outputId": "d01cf4ef-8a17-4319-90de-a5c667385808"
      },
      "outputs": [
        {
          "output_type": "stream",
          "name": "stdout",
          "text": [
            "Sentiment: Positive (Polarity: 0.75)\n"
          ]
        }
      ],
      "source": [
        "import sys\n",
        "\n",
        "try:\n",
        "    from textblob import TextBlob\n",
        "except ModuleNotFoundError:\n",
        "    print(\"TextBlob module not found. Installing...\")\n",
        "    import subprocess\n",
        "    subprocess.check_call([sys.executable, \"-m\", \"pip\", \"install\", \"textblob\"])\n",
        "    from textblob import TextBlob\n",
        "\n",
        "def perform_sentiment_analysis(text):\n",
        "    # Create a TextBlob object\n",
        "    blob = TextBlob(text)\n",
        "\n",
        "    # Get the sentiment polarity\n",
        "    polarity = blob.sentiment.polarity\n",
        "\n",
        "    # Determine sentiment category\n",
        "    if polarity > 0:\n",
        "        sentiment = \"Positive\"\n",
        "    elif polarity < 0:\n",
        "        sentiment = \"Negative\"\n",
        "    else:\n",
        "        sentiment = \"Neutral\"\n",
        "\n",
        "    print(f\"Sentiment: {sentiment} (Polarity: {polarity:.2f})\")\n",
        "\n",
        "# Example usage\n",
        "text = \"I love this beautiful day!\"\n",
        "perform_sentiment_analysis(text)"
      ]
    }
  ]
}