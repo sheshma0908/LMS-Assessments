{
  "nbformat": 4,
  "nbformat_minor": 0,
  "metadata": {
    "colab": {
      "provenance": [],
      "gpuType": "T4",
      "authorship_tag": "ABX9TyMACVrEx5hFr3Joy8BZCxFY",
      "include_colab_link": true
    },
    "kernelspec": {
      "name": "python3",
      "display_name": "Python 3"
    },
    "language_info": {
      "name": "python"
    },
    "accelerator": "GPU"
  },
  "cells": [
    {
      "cell_type": "markdown",
      "metadata": {
        "id": "view-in-github",
        "colab_type": "text"
      },
      "source": [
        "<a href=\"https://colab.research.google.com/github/sheshma0908/LMS-Assessments/blob/main/Day_28.ipynb\" target=\"_parent\"><img src=\"https://colab.research.google.com/assets/colab-badge.svg\" alt=\"Open In Colab\"/></a>"
      ]
    },
    {
      "cell_type": "code",
      "execution_count": 10,
      "metadata": {
        "colab": {
          "base_uri": "https://localhost:8080/"
        },
        "id": "E_u4zb-Nu0kr",
        "outputId": "4f9ff1a8-d01e-4593-f197-43428fe0ff5e"
      },
      "outputs": [
        {
          "output_type": "stream",
          "name": "stdout",
          "text": [
            "Apple: ORG\n",
            "U.K.: GPE\n",
            "$1 billion: MONEY\n"
          ]
        }
      ],
      "source": [
        "import spacy\n",
        "\n",
        "def perform_ner(text):\n",
        "    # Load the English NLP model\n",
        "    nlp = spacy.load(\"en_core_web_sm\")\n",
        "\n",
        "    # Process the text\n",
        "    doc = nlp(text)\n",
        "\n",
        "    # Print named entities and their types\n",
        "    for ent in doc.ents:\n",
        "        print(f\"{ent.text}: {ent.label_}\")\n",
        "\n",
        "# Example usage\n",
        "text = \"Apple is looking at buying U.K. startup for $1 billion.\"\n",
        "perform_ner(text)"
      ]
    }
  ]
}